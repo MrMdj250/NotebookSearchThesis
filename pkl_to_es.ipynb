{
 "cells": [
  {
   "cell_type": "code",
   "execution_count": 5,
   "metadata": {},
   "outputs": [],
   "source": [
    "# imports\n",
    "import os\n",
    "import json\n",
    "from elasticsearch import Elasticsearch\n",
    "from elasticsearch.helpers import bulk\n",
    "from elasticsearch import helpers\n",
    "import numpy as np\n",
    "import pandas as pd\n",
    "import nbconvert\n",
    "import nbformat\n",
    "import zipfile\n",
    "import csv\n",
    "import time"
   ]
  },
  {
   "cell_type": "code",
   "execution_count": 2,
   "metadata": {},
   "outputs": [],
   "source": [
    "# connect to local elastic search host\n",
    "HOST = 'http://localhost:9200/'\n",
    "es = Elasticsearch(hosts=[HOST])\n",
    "\n",
    "# global vars\n",
    "INDEX=\"notebookindex\"\n",
    "TYPE= \"notebook\"\n",
    "COLUMNS = ['nb_id', 'html_url', 'name', 'language', 'markdown', 'comments', 'code']"
   ]
  },
  {
   "cell_type": "code",
   "execution_count": 113,
   "metadata": {},
   "outputs": [
    {
     "data": {
      "text/plain": [
       "{'acknowledged': True, 'index': 'markdown', 'shards_acknowledged': True}"
      ]
     },
     "execution_count": 113,
     "metadata": {},
     "output_type": "execute_result"
    }
   ],
   "source": [
    "# Initialise the elastic search index\n",
    "init_md_index = {\n",
    "    \"settings\" : {\n",
    "        \"number_of_shards\": 5,\n",
    "        \"number_of_replicas\": 1,\n",
    "        \"analysis\": {\n",
    "            \"analyzer\": {\n",
    "                \"text_analyzer\": {\n",
    "                    \"type\": \"standard\",\n",
    "                    \"stopwords\": \"_english_\"\n",
    "                }\n",
    "            }\n",
    "        }\n",
    "    },\n",
    "    'mappings': {\n",
    "            'properties': {\n",
    "                'nb_id': {'type': 'integer'},\n",
    "                'markdown': {'type': 'text', \n",
    "                             \"analyzer\":\"text_analyzer\"\n",
    "                            },\n",
    "        }\n",
    "    }\n",
    "}\n",
    "es.indices.create(index = 'markdown', body = init_md_index)"
   ]
  },
  {
   "cell_type": "code",
   "execution_count": 117,
   "metadata": {},
   "outputs": [
    {
     "data": {
      "text/plain": [
       "{'acknowledged': True, 'index': 'comments', 'shards_acknowledged': True}"
      ]
     },
     "execution_count": 117,
     "metadata": {},
     "output_type": "execute_result"
    }
   ],
   "source": [
    "# Initialise the elastic search index\n",
    "init_comments_index = {\n",
    "    \"settings\" : {\n",
    "        \"number_of_shards\": 5,\n",
    "        \"number_of_replicas\": 1,\n",
    "        \"analysis\": {\n",
    "            \"analyzer\": {\n",
    "                \"text_analyzer\": {\n",
    "                    \"type\": \"standard\",\n",
    "                    \"stopwords\": \"_english_\"\n",
    "                }\n",
    "            }\n",
    "        }\n",
    "    },\n",
    "    'mappings': {\n",
    "            'properties': {\n",
    "                'nb_id': {'type': 'integer'},\n",
    "                'comments': {'type': 'text', \n",
    "                             \"analyzer\":\"text_analyzer\"\n",
    "                            },\n",
    "        }\n",
    "    }\n",
    "}\n",
    "es.indices.create(index = 'comments', body = init_comments_index)"
   ]
  },
  {
   "cell_type": "code",
   "execution_count": 98,
   "metadata": {},
   "outputs": [
    {
     "data": {
      "text/plain": [
       "{'acknowledged': True, 'index': 'info', 'shards_acknowledged': True}"
      ]
     },
     "execution_count": 98,
     "metadata": {},
     "output_type": "execute_result"
    }
   ],
   "source": [
    "# Initialise the elastic search index\n",
    "init_info_index = {\n",
    "    \"settings\" : {\n",
    "        \"number_of_shards\": 5,\n",
    "        \"number_of_replicas\": 1,\n",
    "    },\n",
    "    'mappings': {\n",
    "            'properties': {\n",
    "                'nb_id': {'type': 'integer'},\n",
    "                'html_url': {'type': 'keyword'},\n",
    "                'name': {'type': 'keyword'},\n",
    "                'language': {'type': 'keyword'},\n",
    "        }\n",
    "    }\n",
    "}\n",
    "es.indices.create(index = 'info', body = init_info_index)"
   ]
  },
  {
   "cell_type": "code",
   "execution_count": 53,
   "metadata": {},
   "outputs": [],
   "source": [
    "# tes_df = pd.read_csv('df_bb2733859v_2_1_old.csv') # DONE\n",
    "#tes_df = pd.read_pickle('df_bb2733859v_2_1.pkl') # DONE\n",
    "#tes_df = pd.read_pickle('bb2733859v_3_1_new.pkl') # DONE\n",
    "#tes_df = pd.read_pickle('bb2733859v_4_1(1)_new.pkl') # DONE\n",
    "#tes_df = pd.read_pickle('bb2733859v_5_1(1)_new.pkl') # DONE\n",
    "tes_df = pd.read_pickle('bb2733859v_6_1(1)_new.pkl') # DONE\n",
    "#tes_df = pd.read_pickle('bb2733859v_7_1(1)_new.pkl') # DONE\n",
    "hes_df = tes_df.head()"
   ]
  },
  {
   "cell_type": "code",
   "execution_count": 23,
   "metadata": {},
   "outputs": [],
   "source": [
    "es_df = tes_df\n",
    "\n",
    "def gen(es_df):\n",
    "    for i, row in es_df.iterrows():\n",
    "        t = {\n",
    "            \"_id\": row['nb_id'],\n",
    "            \"html_url\": row['html_url'],\n",
    "            'name': row['name'],\n",
    "            'language': row['language']\n",
    "            }\n",
    "        yield t\n",
    "\n",
    "errors = []\n",
    "for ok, action in helpers.parallel_bulk(client=es, index=\"info\", actions=gen(es_df)):\n",
    "    if not ok:\n",
    "        errors.append(action)"
   ]
  },
  {
   "cell_type": "code",
   "execution_count": 54,
   "metadata": {},
   "outputs": [],
   "source": [
    "es_df = tes_df\n",
    "s = 'markdown'\n",
    "def gen_md(es_df):\n",
    "    for i, row in es_df.iterrows():\n",
    "        t = {\n",
    "            \"_id\": row['nb_id'],\n",
    "            s: row[s]\n",
    "                }\n",
    "        yield t\n",
    "\n",
    "errors = []\n",
    "for ok, action in helpers.parallel_bulk(client=es, index=s, actions=gen_md(es_df)):\n",
    "    if not ok:\n",
    "        errors.append(action)"
   ]
  },
  {
   "cell_type": "code",
   "execution_count": 25,
   "metadata": {},
   "outputs": [],
   "source": [
    "es_df = tes_df\n",
    "s = 'comments' #'comments' 'markdown'\n",
    "def gen_md(es_df):\n",
    "    for i, row in es_df.iterrows():\n",
    "        t = {\n",
    "            \"_id\": row['nb_id'],\n",
    "            s: row[s]\n",
    "            }\n",
    "        yield t\n",
    "\n",
    "errors = []\n",
    "for ok, action in helpers.parallel_bulk(client=es, index=s, actions=gen_md(es_df)):\n",
    "    if not ok:\n",
    "        errors.append(action)"
   ]
  },
  {
   "cell_type": "code",
   "execution_count": 97,
   "metadata": {},
   "outputs": [
    {
     "data": {
      "text/plain": [
       "{'_shards': {'failed': 0, 'skipped': 0, 'successful': 5, 'total': 5},\n",
       " 'hits': {'hits': [],\n",
       "  'max_score': None,\n",
       "  'total': {'relation': 'eq', 'value': 0}},\n",
       " 'timed_out': False,\n",
       " 'took': 0}"
      ]
     },
     "execution_count": 97,
     "metadata": {},
     "output_type": "execute_result"
    }
   ],
   "source": [
    "es.search(body={\"query\": {\"match_all\": {}}}, index = INDEX)"
   ]
  },
  {
   "cell_type": "code",
   "execution_count": 8,
   "metadata": {
    "scrolled": true
   },
   "outputs": [
    {
     "name": "stdout",
     "output_type": "stream",
     "text": [
      "[]\n"
     ]
    }
   ],
   "source": [
    "es.ping()"
   ]
  },
  {
   "cell_type": "code",
   "execution_count": 52,
   "metadata": {},
   "outputs": [
    {
     "name": "stdout",
     "output_type": "stream",
     "text": [
      "0         False\n",
      "1         False\n",
      "2         False\n",
      "3         False\n",
      "4         False\n",
      "          ...  \n",
      "258184    False\n",
      "258185    False\n",
      "258186    False\n",
      "258187    False\n",
      "258188    False\n",
      "Name: nb_id, Length: 258189, dtype: bool\n"
     ]
    }
   ],
   "source": [
    "broken = '1250687'\n",
    "es_df = tes_df\n",
    "test = es_df['nb_id'] == broken\n",
    "print(test)"
   ]
  },
  {
   "cell_type": "code",
   "execution_count": null,
   "metadata": {},
   "outputs": [],
   "source": [
    "# old non bulk\n",
    "es_df = tes_df.head()\n",
    "\n",
    "for i, row in es_df.iterrows():\n",
    "    t = {\n",
    "        \"html_url\": row['html_url'],\n",
    "        'name': row['name'],\n",
    "        'language': row['language']\n",
    "        }\n",
    "    res = es.index(index=\"info\",id=row['nb_id'], body=t)\n",
    "    if res['result'] != 'created':\n",
    "        print(res)"
   ]
  }
 ],
 "metadata": {
  "kernelspec": {
   "display_name": "Python 3",
   "language": "python",
   "name": "python3"
  },
  "language_info": {
   "codemirror_mode": {
    "name": "ipython",
    "version": 3
   },
   "file_extension": ".py",
   "mimetype": "text/x-python",
   "name": "python",
   "nbconvert_exporter": "python",
   "pygments_lexer": "ipython3",
   "version": "3.6.4"
  }
 },
 "nbformat": 4,
 "nbformat_minor": 2
}
