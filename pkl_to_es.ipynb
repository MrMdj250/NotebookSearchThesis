{
 "cells": [
  {
   "cell_type": "code",
   "execution_count": 46,
   "metadata": {},
   "outputs": [],
   "source": [
    "# imports\n",
    "import os\n",
    "import json\n",
    "from elasticsearch import Elasticsearch\n",
    "from elasticsearch.helpers import bulk\n",
    "import numpy as np\n",
    "import pandas as pd\n",
    "import nbconvert\n",
    "import nbformat\n",
    "import zipfile\n",
    "import csv\n",
    "import time"
   ]
  },
  {
   "cell_type": "code",
   "execution_count": 77,
   "metadata": {},
   "outputs": [],
   "source": [
    "# connect to local elastic search host\n",
    "HOST = 'http://localhost:9200/'\n",
    "es = Elasticsearch(hosts=[HOST])\n",
    "\n",
    "# global vars\n",
    "INDEX=\"notebookindex\"\n",
    "TYPE= \"notebook\"\n",
    "COLUMNS = ['nb_id', 'html_url', 'name', 'language', 'markdown', 'comments', 'code']"
   ]
  },
  {
   "cell_type": "code",
   "execution_count": null,
   "metadata": {},
   "outputs": [],
   "source": [
    "# Initialise the elastic search index\n",
    "init_md_index = {\n",
    "    \"settings\" : {\n",
    "        \"number_of_shards\": 5,\n",
    "        \"number_of_replicas\": 1,\n",
    "        \"analysis\": {\n",
    "            \"analyzer\": {\n",
    "                \"text_analyzer\": {\n",
    "                    \"type\": \"standard\",\n",
    "                    \"stopwords\": \"_english_\"\n",
    "                }\n",
    "            }\n",
    "        }\n",
    "    },\n",
    "    'mappings': {\n",
    "            'properties': {\n",
    "                'nb_id': {'type': 'integer'},\n",
    "                'markdown': {'type': 'text', \n",
    "                             \"analyzer\":\"text_analyzer\"\n",
    "                            },\n",
    "        }\n",
    "    }\n",
    "}\n",
    "es.indices.create(index = 'markdown', body = init_index)"
   ]
  },
  {
   "cell_type": "code",
   "execution_count": null,
   "metadata": {},
   "outputs": [],
   "source": [
    "# Initialise the elastic search index\n",
    "init_md_index = {\n",
    "    \"settings\" : {\n",
    "        \"number_of_shards\": 5,\n",
    "        \"number_of_replicas\": 1,\n",
    "        \"analysis\": {\n",
    "            \"analyzer\": {\n",
    "                \"text_analyzer\": {\n",
    "                    \"type\": \"standard\",\n",
    "                    \"stopwords\": \"_english_\"\n",
    "                }\n",
    "            }\n",
    "        }\n",
    "    },\n",
    "    'mappings': {\n",
    "            'properties': {\n",
    "                'nb_id': {'type': 'integer'},\n",
    "                'comments': {'type': 'text', \n",
    "                             \"analyzer\":\"text_analyzer\"\n",
    "                            },\n",
    "        }\n",
    "    }\n",
    "}\n",
    "es.indices.create(index = 'markdown', body = init_index)"
   ]
  },
  {
   "cell_type": "code",
   "execution_count": null,
   "metadata": {},
   "outputs": [],
   "source": []
  },
  {
   "cell_type": "code",
   "execution_count": 98,
   "metadata": {},
   "outputs": [
    {
     "data": {
      "text/plain": [
       "{'acknowledged': True, 'index': 'info', 'shards_acknowledged': True}"
      ]
     },
     "execution_count": 98,
     "metadata": {},
     "output_type": "execute_result"
    }
   ],
   "source": [
    "# Initialise the elastic search index\n",
    "init_info_index = {\n",
    "    \"settings\" : {\n",
    "        \"number_of_shards\": 5,\n",
    "        \"number_of_replicas\": 1,\n",
    "    },\n",
    "    'mappings': {\n",
    "            'properties': {\n",
    "                'nb_id': {'type': 'integer'},\n",
    "                'html_url': {'type': 'keyword'},\n",
    "                'name': {'type': 'keyword'},\n",
    "                'language': {'type': 'keyword'},\n",
    "        }\n",
    "    }\n",
    "}\n",
    "es.indices.create(index = 'info', body = init_info_index)"
   ]
  },
  {
   "cell_type": "code",
   "execution_count": 23,
   "metadata": {},
   "outputs": [],
   "source": [
    "# tes_df = pd.read_csv('df_bb2733859v_2_1_old.csv')\n",
    "tes_df = pd.read_pickle('df_bb2733859v_2_1.pkl')\n",
    "hes_df = tes_df.head()"
   ]
  },
  {
   "cell_type": "code",
   "execution_count": 100,
   "metadata": {},
   "outputs": [
    {
     "name": "stdout",
     "output_type": "stream",
     "text": [
      "{'_index': 'info', '_type': '_doc', '_id': '120951', '_version': 2, 'result': 'updated', '_shards': {'total': 2, 'successful': 1, 'failed': 0}, '_seq_no': 2, '_primary_term': 1}\n",
      "{'_index': 'info', '_type': '_doc', '_id': '23352', '_version': 2, 'result': 'updated', '_shards': {'total': 2, 'successful': 1, 'failed': 0}, '_seq_no': 3, '_primary_term': 1}\n"
     ]
    }
   ],
   "source": [
    "es_df = tes_df\n",
    "\n",
    "for i, row in es_df.iterrows():\n",
    "    t = {\n",
    "        \"html_url\": row['html_url'],\n",
    "        'name': row['name'],\n",
    "        'language': row['language']\n",
    "        }\n",
    "    res = es.index(index=\"info\",id=row['nb_id'], body=t)\n",
    "    if res['result'] != 'created':\n",
    "        print(res)"
   ]
  },
  {
   "cell_type": "code",
   "execution_count": 19,
   "metadata": {},
   "outputs": [
    {
     "data": {
      "text/html": [
       "<div>\n",
       "<style scoped>\n",
       "    .dataframe tbody tr th:only-of-type {\n",
       "        vertical-align: middle;\n",
       "    }\n",
       "\n",
       "    .dataframe tbody tr th {\n",
       "        vertical-align: top;\n",
       "    }\n",
       "\n",
       "    .dataframe thead th {\n",
       "        text-align: right;\n",
       "    }\n",
       "</style>\n",
       "<table border=\"1\" class=\"dataframe\">\n",
       "  <thead>\n",
       "    <tr style=\"text-align: right;\">\n",
       "      <th></th>\n",
       "      <th>nb_id</th>\n",
       "      <th>html_url</th>\n",
       "      <th>name</th>\n",
       "      <th>language</th>\n",
       "      <th>markdown</th>\n",
       "      <th>comments</th>\n",
       "      <th>code</th>\n",
       "    </tr>\n",
       "  </thead>\n",
       "  <tbody>\n",
       "    <tr>\n",
       "      <th>0</th>\n",
       "      <td>120951</td>\n",
       "      <td>https://github.com/tuckercs/DSI-Projects/blob/...</td>\n",
       "      <td>Fizz Buzz.ipynb</td>\n",
       "      <td>python</td>\n",
       "      <td>[]</td>\n",
       "      <td>[]</td>\n",
       "      <td>[import pandas as pd, def fizzbuzz(n):\\n    if...</td>\n",
       "    </tr>\n",
       "    <tr>\n",
       "      <th>1</th>\n",
       "      <td>23352</td>\n",
       "      <td>https://github.com/Isabella-Dineo/beam_py/blob...</td>\n",
       "      <td>patchbeam_main.ipynb</td>\n",
       "      <td>python</td>\n",
       "      <td>[]</td>\n",
       "      <td>[def correct(x):\\n    \"\"\"Function to correct f...</td>\n",
       "      <td>[import numpy as np\\nimport scipy as sp\\nfrom ...</td>\n",
       "    </tr>\n",
       "    <tr>\n",
       "      <th>2</th>\n",
       "      <td>73638</td>\n",
       "      <td>https://github.com/wanglongjuan/15-ODE-homewor...</td>\n",
       "      <td>2015750221张杰-checkpoint.ipynb</td>\n",
       "      <td></td>\n",
       "      <td>[数学与应用数学班, 张杰 2015750221, **P88——3**, **求初值问题$...</td>\n",
       "      <td>[]</td>\n",
       "      <td>[]</td>\n",
       "    </tr>\n",
       "    <tr>\n",
       "      <th>3</th>\n",
       "      <td>179265</td>\n",
       "      <td>https://github.com/tyui592/nn_study/blob/f3c37...</td>\n",
       "      <td>hand_write_function_learning.ipynb</td>\n",
       "      <td>python</td>\n",
       "      <td>[# Artificial Neural Network, ## Object : hand...</td>\n",
       "      <td>[# read hand write function image\\nimg = color...</td>\n",
       "      <td>[from skimage import io, color\\nimport matplot...</td>\n",
       "    </tr>\n",
       "    <tr>\n",
       "      <th>4</th>\n",
       "      <td>54493</td>\n",
       "      <td>https://github.com/suhagba/Naive_Bayes/blob/e6...</td>\n",
       "      <td>Tutorial5.ipynb</td>\n",
       "      <td>python</td>\n",
       "      <td>[**Name:** Byaravalli Arun Suhag\\n\\n**EID:** 5...</td>\n",
       "      <td>[%matplotlib inline\\nimport IPython.core.displ...</td>\n",
       "      <td>[%matplotlib inline\\nimport IPython.core.displ...</td>\n",
       "    </tr>\n",
       "  </tbody>\n",
       "</table>\n",
       "</div>"
      ],
      "text/plain": [
       "    nb_id                                           html_url  \\\n",
       "0  120951  https://github.com/tuckercs/DSI-Projects/blob/...   \n",
       "1   23352  https://github.com/Isabella-Dineo/beam_py/blob...   \n",
       "2   73638  https://github.com/wanglongjuan/15-ODE-homewor...   \n",
       "3  179265  https://github.com/tyui592/nn_study/blob/f3c37...   \n",
       "4   54493  https://github.com/suhagba/Naive_Bayes/blob/e6...   \n",
       "\n",
       "                                 name language  \\\n",
       "0                     Fizz Buzz.ipynb   python   \n",
       "1                patchbeam_main.ipynb   python   \n",
       "2       2015750221张杰-checkpoint.ipynb            \n",
       "3  hand_write_function_learning.ipynb   python   \n",
       "4                     Tutorial5.ipynb   python   \n",
       "\n",
       "                                            markdown  \\\n",
       "0                                                 []   \n",
       "1                                                 []   \n",
       "2  [数学与应用数学班, 张杰 2015750221, **P88——3**, **求初值问题$...   \n",
       "3  [# Artificial Neural Network, ## Object : hand...   \n",
       "4  [**Name:** Byaravalli Arun Suhag\\n\\n**EID:** 5...   \n",
       "\n",
       "                                            comments  \\\n",
       "0                                                 []   \n",
       "1  [def correct(x):\\n    \"\"\"Function to correct f...   \n",
       "2                                                 []   \n",
       "3  [# read hand write function image\\nimg = color...   \n",
       "4  [%matplotlib inline\\nimport IPython.core.displ...   \n",
       "\n",
       "                                                code  \n",
       "0  [import pandas as pd, def fizzbuzz(n):\\n    if...  \n",
       "1  [import numpy as np\\nimport scipy as sp\\nfrom ...  \n",
       "2                                                 []  \n",
       "3  [from skimage import io, color\\nimport matplot...  \n",
       "4  [%matplotlib inline\\nimport IPython.core.displ...  "
      ]
     },
     "execution_count": 19,
     "metadata": {},
     "output_type": "execute_result"
    }
   ],
   "source": [
    "tes_df.head()"
   ]
  },
  {
   "cell_type": "code",
   "execution_count": 97,
   "metadata": {},
   "outputs": [
    {
     "data": {
      "text/plain": [
       "{'_shards': {'failed': 0, 'skipped': 0, 'successful': 5, 'total': 5},\n",
       " 'hits': {'hits': [],\n",
       "  'max_score': None,\n",
       "  'total': {'relation': 'eq', 'value': 0}},\n",
       " 'timed_out': False,\n",
       " 'took': 0}"
      ]
     },
     "execution_count": 97,
     "metadata": {},
     "output_type": "execute_result"
    }
   ],
   "source": [
    "es.search(body={\"query\": {\"match_all\": {}}}, index = INDEX)"
   ]
  },
  {
   "cell_type": "code",
   "execution_count": 92,
   "metadata": {},
   "outputs": [
    {
     "data": {
      "text/plain": [
       "True"
      ]
     },
     "execution_count": 92,
     "metadata": {},
     "output_type": "execute_result"
    }
   ],
   "source": [
    "es.ping()"
   ]
  },
  {
   "cell_type": "code",
   "execution_count": 101,
   "metadata": {},
   "outputs": [
    {
     "data": {
      "text/html": [
       "<div>\n",
       "<style scoped>\n",
       "    .dataframe tbody tr th:only-of-type {\n",
       "        vertical-align: middle;\n",
       "    }\n",
       "\n",
       "    .dataframe tbody tr th {\n",
       "        vertical-align: top;\n",
       "    }\n",
       "\n",
       "    .dataframe thead th {\n",
       "        text-align: right;\n",
       "    }\n",
       "</style>\n",
       "<table border=\"1\" class=\"dataframe\">\n",
       "  <thead>\n",
       "    <tr style=\"text-align: right;\">\n",
       "      <th></th>\n",
       "      <th>nb_id</th>\n",
       "      <th>html_url</th>\n",
       "      <th>name</th>\n",
       "      <th>language</th>\n",
       "      <th>markdown</th>\n",
       "      <th>comments</th>\n",
       "      <th>code</th>\n",
       "    </tr>\n",
       "  </thead>\n",
       "  <tbody>\n",
       "    <tr>\n",
       "      <th>0</th>\n",
       "      <td>120951</td>\n",
       "      <td>https://github.com/tuckercs/DSI-Projects/blob/...</td>\n",
       "      <td>Fizz Buzz.ipynb</td>\n",
       "      <td>python</td>\n",
       "      <td>[]</td>\n",
       "      <td>[]</td>\n",
       "      <td>[import pandas as pd, def fizzbuzz(n):\\n    if...</td>\n",
       "    </tr>\n",
       "    <tr>\n",
       "      <th>1</th>\n",
       "      <td>23352</td>\n",
       "      <td>https://github.com/Isabella-Dineo/beam_py/blob...</td>\n",
       "      <td>patchbeam_main.ipynb</td>\n",
       "      <td>python</td>\n",
       "      <td>[]</td>\n",
       "      <td>[def correct(x):\\n    \"\"\"Function to correct f...</td>\n",
       "      <td>[import numpy as np\\nimport scipy as sp\\nfrom ...</td>\n",
       "    </tr>\n",
       "    <tr>\n",
       "      <th>2</th>\n",
       "      <td>73638</td>\n",
       "      <td>https://github.com/wanglongjuan/15-ODE-homewor...</td>\n",
       "      <td>2015750221张杰-checkpoint.ipynb</td>\n",
       "      <td></td>\n",
       "      <td>[数学与应用数学班, 张杰 2015750221, **P88——3**, **求初值问题$...</td>\n",
       "      <td>[]</td>\n",
       "      <td>[]</td>\n",
       "    </tr>\n",
       "    <tr>\n",
       "      <th>3</th>\n",
       "      <td>179265</td>\n",
       "      <td>https://github.com/tyui592/nn_study/blob/f3c37...</td>\n",
       "      <td>hand_write_function_learning.ipynb</td>\n",
       "      <td>python</td>\n",
       "      <td>[# Artificial Neural Network, ## Object : hand...</td>\n",
       "      <td>[# read hand write function image\\nimg = color...</td>\n",
       "      <td>[from skimage import io, color\\nimport matplot...</td>\n",
       "    </tr>\n",
       "    <tr>\n",
       "      <th>4</th>\n",
       "      <td>54493</td>\n",
       "      <td>https://github.com/suhagba/Naive_Bayes/blob/e6...</td>\n",
       "      <td>Tutorial5.ipynb</td>\n",
       "      <td>python</td>\n",
       "      <td>[**Name:** Byaravalli Arun Suhag\\n\\n**EID:** 5...</td>\n",
       "      <td>[%matplotlib inline\\nimport IPython.core.displ...</td>\n",
       "      <td>[%matplotlib inline\\nimport IPython.core.displ...</td>\n",
       "    </tr>\n",
       "  </tbody>\n",
       "</table>\n",
       "</div>"
      ],
      "text/plain": [
       "    nb_id                                           html_url  \\\n",
       "0  120951  https://github.com/tuckercs/DSI-Projects/blob/...   \n",
       "1   23352  https://github.com/Isabella-Dineo/beam_py/blob...   \n",
       "2   73638  https://github.com/wanglongjuan/15-ODE-homewor...   \n",
       "3  179265  https://github.com/tyui592/nn_study/blob/f3c37...   \n",
       "4   54493  https://github.com/suhagba/Naive_Bayes/blob/e6...   \n",
       "\n",
       "                                 name language  \\\n",
       "0                     Fizz Buzz.ipynb   python   \n",
       "1                patchbeam_main.ipynb   python   \n",
       "2       2015750221张杰-checkpoint.ipynb            \n",
       "3  hand_write_function_learning.ipynb   python   \n",
       "4                     Tutorial5.ipynb   python   \n",
       "\n",
       "                                            markdown  \\\n",
       "0                                                 []   \n",
       "1                                                 []   \n",
       "2  [数学与应用数学班, 张杰 2015750221, **P88——3**, **求初值问题$...   \n",
       "3  [# Artificial Neural Network, ## Object : hand...   \n",
       "4  [**Name:** Byaravalli Arun Suhag\\n\\n**EID:** 5...   \n",
       "\n",
       "                                            comments  \\\n",
       "0                                                 []   \n",
       "1  [def correct(x):\\n    \"\"\"Function to correct f...   \n",
       "2                                                 []   \n",
       "3  [# read hand write function image\\nimg = color...   \n",
       "4  [%matplotlib inline\\nimport IPython.core.displ...   \n",
       "\n",
       "                                                code  \n",
       "0  [import pandas as pd, def fizzbuzz(n):\\n    if...  \n",
       "1  [import numpy as np\\nimport scipy as sp\\nfrom ...  \n",
       "2                                                 []  \n",
       "3  [from skimage import io, color\\nimport matplot...  \n",
       "4  [%matplotlib inline\\nimport IPython.core.displ...  "
      ]
     },
     "execution_count": 101,
     "metadata": {},
     "output_type": "execute_result"
    }
   ],
   "source": [
    "t = pd.read_pickle('df_bb2733859v_2_1.pkl')\n",
    "t.head()"
   ]
  },
  {
   "cell_type": "code",
   "execution_count": null,
   "metadata": {},
   "outputs": [],
   "source": []
  }
 ],
 "metadata": {
  "kernelspec": {
   "display_name": "Python 3",
   "language": "python",
   "name": "python3"
  },
  "language_info": {
   "codemirror_mode": {
    "name": "ipython",
    "version": 3
   },
   "file_extension": ".py",
   "mimetype": "text/x-python",
   "name": "python",
   "nbconvert_exporter": "python",
   "pygments_lexer": "ipython3",
   "version": "3.6.4"
  }
 },
 "nbformat": 4,
 "nbformat_minor": 2
}
