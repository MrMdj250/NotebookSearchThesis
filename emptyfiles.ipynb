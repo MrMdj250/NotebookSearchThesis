{
 "cells": [
  {
   "cell_type": "code",
   "execution_count": null,
   "metadata": {},
   "outputs": [],
   "source": [
    "# imports\n",
    "import numpy as np\n",
    "import pandas as pd\n",
    "import pickle\n",
    "from elasticsearch import Elasticsearch\n",
    "from elasticsearch_dsl import Search, Q\n",
    "from tqdm.auto import tqdm\n",
    "from multiprocessing import Pool"
   ]
  },
  {
   "cell_type": "code",
   "execution_count": null,
   "metadata": {},
   "outputs": [],
   "source": [
    "# connect to local elastic search host\n",
    "HOST = 'http://localhost:9200/'\n",
    "es = Elasticsearch(hosts=[HOST])\n",
    "INDEX = 'info_clone'\n",
    "NEWINDEX = 'info_clone2'\n",
    "es.ping()"
   ]
  },
  {
   "cell_type": "code",
   "execution_count": null,
   "metadata": {},
   "outputs": [],
   "source": [
    "t = es.indices.stats(index=INDEX)\n",
    "SIZE = t['_all']['primaries']['docs']['count']"
   ]
  },
  {
   "cell_type": "code",
   "execution_count": null,
   "metadata": {},
   "outputs": [],
   "source": [
    "s = Search(using=es, index=INDEX)\n",
    "q = Q(\"wildcard\", name='*')\n",
    "query = s.query(q) #.extra(size=SIZE)\n",
    "#response = query.execute()\n",
    "#print(len(response))"
   ]
  },
  {
   "cell_type": "code",
   "execution_count": null,
   "metadata": {},
   "outputs": [],
   "source": [
    "# Find files that contain no markdown or code\n",
    "def check_empty(es, nid, name):\n",
    "    mkdn = es.get(index='markdown', id=nid)\n",
    "    mkdnlist = mkdn['_source']['markdown']\n",
    "    code = es.get(index='code', id=nid)\n",
    "    codelist = code['_source']['code']\n",
    "    comments = es.get(index='comments2', id=nid)\n",
    "    cmtlist = comments['_source']['comments']\n",
    "    if mkdnlist == [] and codelist == [] and cmtlist == []:\n",
    "        return True\n",
    "    else:\n",
    "        return False"
   ]
  },
  {
   "cell_type": "code",
   "execution_count": null,
   "metadata": {},
   "outputs": [],
   "source": [
    "SLICES = 5                                                                      \n",
    "empty_files = []\n",
    "def dump_slice(slice_no):                                                       \n",
    "    s = Search()                                                                \n",
    "    s = s.extra(slice={\"id\": slice_no, \"max\": SLICES})                          \n",
    "    for hit in s.scan():                                                          \n",
    "        nid = hit.meta.id\n",
    "        if check_empty(es, nid, name):\n",
    "            empty_files.append(nid)\n",
    "\n",
    "pool = Pool(SLICES)                                                             \n",
    "pool.map(dump_slice, range(SLICES))\n",
    "\n",
    "# empty_files = []\n",
    "# for hit in s.scan():\n",
    "#     nid = hit.meta.id\n",
    "#     if check_empty(es, nid, name):\n",
    "#         empty_files.append(nid)"
   ]
  },
  {
   "cell_type": "code",
   "execution_count": null,
   "metadata": {},
   "outputs": [],
   "source": [
    "len(empty_files)"
   ]
  },
  {
   "cell_type": "code",
   "execution_count": null,
   "metadata": {},
   "outputs": [],
   "source": [
    "with open('empty.pkl', 'wb') as f:\n",
    "    pickle.dump(empty_files, f)"
   ]
  },
  {
   "cell_type": "code",
   "execution_count": null,
   "metadata": {},
   "outputs": [],
   "source": [
    "with open('empty.pkl', 'rb') as f:\n",
    "     empty_files = pickle.load(f)"
   ]
  },
  {
   "cell_type": "code",
   "execution_count": null,
   "metadata": {},
   "outputs": [],
   "source": [
    "#es.delete(index=NEWINDEX, id=nid)"
   ]
  }
 ],
 "metadata": {
  "kernelspec": {
   "display_name": "Python 3",
   "language": "python",
   "name": "python3"
  },
  "language_info": {
   "codemirror_mode": {
    "name": "ipython",
    "version": 3
   },
   "file_extension": ".py",
   "mimetype": "text/x-python",
   "name": "python",
   "nbconvert_exporter": "python",
   "pygments_lexer": "ipython3",
   "version": "3.6.4"
  }
 },
 "nbformat": 4,
 "nbformat_minor": 2
}
