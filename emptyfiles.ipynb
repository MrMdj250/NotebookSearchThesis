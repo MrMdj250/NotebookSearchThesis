{
 "cells": [
  {
   "cell_type": "code",
   "execution_count": 4,
   "metadata": {},
   "outputs": [],
   "source": [
    "# imports\n",
    "import numpy as np\n",
    "import pandas as pd\n",
    "import pickle\n",
    "from elasticsearch import Elasticsearch\n",
    "from elasticsearch_dsl import Search, Q\n",
    "from tqdm.auto import tqdm"
   ]
  },
  {
   "cell_type": "code",
   "execution_count": 5,
   "metadata": {},
   "outputs": [
    {
     "data": {
      "text/plain": [
       "True"
      ]
     },
     "execution_count": 5,
     "metadata": {},
     "output_type": "execute_result"
    }
   ],
   "source": [
    "# connect to local elastic search host\n",
    "HOST = 'http://localhost:9200/'\n",
    "es = Elasticsearch(hosts=[HOST])\n",
    "INDEX = 'info_clone'\n",
    "NEWINDEX = 'info_clone2'\n",
    "es.ping()"
   ]
  },
  {
   "cell_type": "code",
   "execution_count": 6,
   "metadata": {},
   "outputs": [],
   "source": [
    "t = es.indices.stats(index=INDEX)\n",
    "SIZE = t['_all']['primaries']['docs']['count']"
   ]
  },
  {
   "cell_type": "code",
   "execution_count": 15,
   "metadata": {},
   "outputs": [],
   "source": [
    "s = Search(using=es, index=INDEX)\n",
    "q = Q(\"wildcard\", name='*')\n",
    "query = s.query(q) #.extra(size=SIZE)\n",
    "#response = query.execute()\n",
    "#print(len(response))"
   ]
  },
  {
   "cell_type": "code",
   "execution_count": 17,
   "metadata": {},
   "outputs": [],
   "source": [
    "# Find files that contain no markdown or code\n",
    "def check_empty(es, nid, name):\n",
    "    mkdn = es.get(index='markdown', id=nid)\n",
    "    mkdnlist = mkdn['_source']['markdown']\n",
    "    code = es.get(index='code', id=nid)\n",
    "    codelist = code['_source']['code']\n",
    "    comments = es.get(index='comments2', id=nid)\n",
    "    cmtlist = comments['_source']['comments']\n",
    "    if mkdnlist == [] and codelist == [] and cmtlist == []:\n",
    "        return True\n",
    "    else:\n",
    "        return False"
   ]
  },
  {
   "cell_type": "code",
   "execution_count": null,
   "metadata": {},
   "outputs": [],
   "source": [
    "# empty_files = []\n",
    "# for i in range(len(response)):\n",
    "#     nid = response[i].meta.id\n",
    "#     name = response[i]['name']\n",
    "#     if check_empty(es, nid, name):\n",
    "#         empty_files.append((name, nid))\n",
    "\n",
    "empty_files = []\n",
    "for hit in s.scan():\n",
    "    nid = hit.meta.id\n",
    "    name = hit.name\n",
    "    if check_empty(es, nid, name):\n",
    "        empty_files.append((name, nid))"
   ]
  },
  {
   "cell_type": "code",
   "execution_count": 15,
   "metadata": {},
   "outputs": [
    {
     "data": {
      "text/plain": [
       "[('python_notebook_2017-02-19T16:27:47.271-0800.ipynb', '556437'),\n",
       " ('python_notebook_2017-03-30T17:35:51.587-0700.ipynb', '556867'),\n",
       " ('python_notebook_2017-03-24T20:17:35.130-0700.ipynb', '556801')]"
      ]
     },
     "execution_count": 15,
     "metadata": {},
     "output_type": "execute_result"
    }
   ],
   "source": [
    "len(empty_files)"
   ]
  },
  {
   "cell_type": "code",
   "execution_count": null,
   "metadata": {},
   "outputs": [],
   "source": [
    "with open('empty.pkl', 'wb') as f:\n",
    "    pickle.dump(data, f)"
   ]
  },
  {
   "cell_type": "code",
   "execution_count": null,
   "metadata": {},
   "outputs": [],
   "source": [
    "with open('empty.pkl', 'rb') as f:\n",
    "     data = pickle.load(f)"
   ]
  },
  {
   "cell_type": "code",
   "execution_count": null,
   "metadata": {},
   "outputs": [],
   "source": [
    "#es.delete(index=NEWINDEX, id=nid)"
   ]
  }
 ],
 "metadata": {
  "kernelspec": {
   "display_name": "Python 3",
   "language": "python",
   "name": "python3"
  },
  "language_info": {
   "codemirror_mode": {
    "name": "ipython",
    "version": 3
   },
   "file_extension": ".py",
   "mimetype": "text/x-python",
   "name": "python",
   "nbconvert_exporter": "python",
   "pygments_lexer": "ipython3",
   "version": "3.6.4"
  }
 },
 "nbformat": 4,
 "nbformat_minor": 2
}
