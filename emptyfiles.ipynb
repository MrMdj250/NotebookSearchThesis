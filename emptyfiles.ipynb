{
 "cells": [
  {
   "cell_type": "code",
   "execution_count": 1,
   "metadata": {},
   "outputs": [],
   "source": [
    "# imports\n",
    "import numpy as np\n",
    "import pandas as pd\n",
    "import pickle\n",
    "from elasticsearch import Elasticsearch\n",
    "from elasticsearch_dsl import Search, Q\n",
    "from tqdm.auto import tqdm\n",
    "from multiprocessing import Pool"
   ]
  },
  {
   "cell_type": "code",
   "execution_count": 2,
   "metadata": {},
   "outputs": [
    {
     "data": {
      "text/plain": [
       "True"
      ]
     },
     "execution_count": 2,
     "metadata": {},
     "output_type": "execute_result"
    }
   ],
   "source": [
    "# connect to local elastic search host\n",
    "HOST = 'http://localhost:9200/'\n",
    "es = Elasticsearch(hosts=[HOST])\n",
    "INDEX = 'info_clone'\n",
    "NEWINDEX = 'info_clone2'\n",
    "es.ping()"
   ]
  },
  {
   "cell_type": "code",
   "execution_count": 3,
   "metadata": {},
   "outputs": [],
   "source": [
    "t = es.indices.stats(index=INDEX)\n",
    "SIZE = t['_all']['primaries']['docs']['count']"
   ]
  },
  {
   "cell_type": "code",
   "execution_count": 4,
   "metadata": {},
   "outputs": [],
   "source": [
    "s = Search(using=es, index=INDEX)\n",
    "q = Q(\"wildcard\", name='*')\n",
    "query = s.query(q) #.extra(size=SIZE)\n",
    "#response = query.execute()\n",
    "#print(len(response))"
   ]
  },
  {
   "cell_type": "code",
   "execution_count": 16,
   "metadata": {},
   "outputs": [],
   "source": [
    "# Find files that contain no markdown or code\n",
    "def check_empty(es, nid):\n",
    "    mkdn = es.get(index='markdown', id=nid, ignore=[404])\n",
    "    mkdnlist = mkdn['_source']['markdown']\n",
    "    code = es.get(index='code', id=nid, ignore=[404])\n",
    "    codelist = code['_source']['code']\n",
    "    comments = es.get(index='comments2', id=nid, ignore=[404])\n",
    "    cmtlist = comments['_source']['comments']\n",
    "    if mkdnlist == [] and codelist == [] and cmtlist == []:\n",
    "        return True\n",
    "    else:\n",
    "        return False"
   ]
  },
  {
   "cell_type": "code",
   "execution_count": null,
   "metadata": {},
   "outputs": [
    {
     "name": "stdout",
     "output_type": "stream",
     "text": [
      "1174364\r"
     ]
    }
   ],
   "source": [
    "# POOL NOT WORKING\n",
    "# SLICES = 5                                                                      \n",
    "\n",
    "# def dump_slice(slice_no):\n",
    "#     empty_files = []\n",
    "#     s = Search()                                                                \n",
    "#     s = s.extra(slice={\"id\": slice_no, \"max\": SLICES})                          \n",
    "#     for hit in s.scan():                                                          \n",
    "#         nid = hit.meta.id\n",
    "#         if check_empty(es, nid, name):\n",
    "#             empty_files.append(nid)\n",
    "#     return empty_files\n",
    "\n",
    "# pool = Pool(SLICES)                                                             \n",
    "# pool.map(dump_slice, range(SLICES))\n",
    "\n",
    "empty_files = []\n",
    "for hit in s.scan():\n",
    "    nid = hit.meta.id\n",
    "    if check_empty(es, nid):\n",
    "        print(nid, end='\\r')\n",
    "        empty_files.append(nid)"
   ]
  },
  {
   "cell_type": "code",
   "execution_count": 13,
   "metadata": {},
   "outputs": [
    {
     "data": {
      "text/plain": [
       "0"
      ]
     },
     "execution_count": 13,
     "metadata": {},
     "output_type": "execute_result"
    }
   ],
   "source": [
    "len(empty_files)"
   ]
  },
  {
   "cell_type": "code",
   "execution_count": null,
   "metadata": {},
   "outputs": [],
   "source": [
    "with open('empty.pkl', 'wb') as f:\n",
    "    pickle.dump(empty_files, f)"
   ]
  },
  {
   "cell_type": "code",
   "execution_count": null,
   "metadata": {},
   "outputs": [],
   "source": [
    "with open('empty.pkl', 'rb') as f:\n",
    "     empty_files = pickle.load(f)"
   ]
  },
  {
   "cell_type": "code",
   "execution_count": null,
   "metadata": {},
   "outputs": [],
   "source": [
    "#es.delete(index=NEWINDEX, id=nid)\n",
    "#mdelete"
   ]
  },
  {
   "cell_type": "code",
   "execution_count": null,
   "metadata": {},
   "outputs": [],
   "source": [
    "# Does not run properly\n",
    "SLICES = 2\n",
    "\n",
    "def test(slice_no):\n",
    "    test = []\n",
    "    for i in range(10):\n",
    "        test.append(i)\n",
    "    return test\n",
    "\n",
    "pool = Pool(SLICES)                                                             \n",
    "all_test = pool.map(test, range(SLICES))\n",
    "all_test = [i for l in all_test for i in l]"
   ]
  },
  {
   "cell_type": "code",
   "execution_count": null,
   "metadata": {},
   "outputs": [],
   "source": []
  }
 ],
 "metadata": {
  "kernelspec": {
   "display_name": "Python 3",
   "language": "python",
   "name": "python3"
  },
  "language_info": {
   "codemirror_mode": {
    "name": "ipython",
    "version": 3
   },
   "file_extension": ".py",
   "mimetype": "text/x-python",
   "name": "python",
   "nbconvert_exporter": "python",
   "pygments_lexer": "ipython3",
   "version": "3.6.4"
  }
 },
 "nbformat": 4,
 "nbformat_minor": 2
}
