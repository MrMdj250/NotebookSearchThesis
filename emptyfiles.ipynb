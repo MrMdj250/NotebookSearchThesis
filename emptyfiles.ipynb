{
 "cells": [
  {
   "cell_type": "code",
   "execution_count": 1,
   "metadata": {},
   "outputs": [],
   "source": [
    "# imports\n",
    "import numpy as np\n",
    "import pandas as pd\n",
    "import pickle\n",
    "from elasticsearch import Elasticsearch\n",
    "from elasticsearch_dsl import Search, Q\n",
    "from tqdm.auto import tqdm\n",
    "from multiprocessing import Pool"
   ]
  },
  {
   "cell_type": "code",
   "execution_count": 2,
   "metadata": {},
   "outputs": [
    {
     "data": {
      "text/plain": [
       "True"
      ]
     },
     "execution_count": 2,
     "metadata": {},
     "output_type": "execute_result"
    }
   ],
   "source": [
    "# connect to local elastic search host\n",
    "HOST = 'http://localhost:9200/'\n",
    "es = Elasticsearch(hosts=[HOST])\n",
    "INDEX = 'info_clone'\n",
    "NEWINDEX = 'info_clone2'\n",
    "es.ping()"
   ]
  },
  {
   "cell_type": "code",
   "execution_count": 3,
   "metadata": {},
   "outputs": [],
   "source": [
    "t = es.indices.stats(index=INDEX)\n",
    "SIZE = t['_all']['primaries']['docs']['count']\n",
    "print(SIZE)"
   ]
  },
  {
   "cell_type": "code",
   "execution_count": 4,
   "metadata": {},
   "outputs": [],
   "source": [
    "s = Search(using=es, index=NEWINDEX)\n",
    "q = Q(\"wildcard\", name='*')\n",
    "query = s.query(q) #.extra(size=SIZE)\n",
    "#response = query.execute()\n",
    "#print(len(response))"
   ]
  },
  {
   "cell_type": "code",
   "execution_count": 29,
   "metadata": {},
   "outputs": [],
   "source": [
    "# Find files that contain no markdown or code\n",
    "def check_empty(es, nid):\n",
    "    mkdn = es.get(index='markdown', id=nid, ignore=[404])\n",
    "    if '_source' in mkdn:\n",
    "        mkdnlist = mkdn['_source']['markdown']\n",
    "    else:\n",
    "        mkdnlist = None\n",
    "    code = es.get(index='code', id=nid, ignore=[404])\n",
    "    if '_source' in code:\n",
    "        codelist = code['_source']['code']\n",
    "    else:\n",
    "        codelist = None\n",
    "    comments = es.get(index='comments2', id=nid, ignore=[404])\n",
    "    if '_source' in comments:    \n",
    "        cmtlist = comments['_source']['comments']\n",
    "    else:\n",
    "        cmtlist = None\n",
    "    if mkdnlist == [] and codelist == [] and cmtlist == []:\n",
    "        return True\n",
    "    else:\n",
    "        return False"
   ]
  },
  {
   "cell_type": "code",
   "execution_count": 30,
   "metadata": {},
   "outputs": [
    {
     "name": "stdout",
     "output_type": "stream",
     "text": [
      "1003221\r"
     ]
    }
   ],
   "source": [
    "empty_files = []\n",
    "for hit in s.scan():\n",
    "    nid = hit.meta.id\n",
    "    print(nid, end='\\r')\n",
    "    if check_empty(es, nid):\n",
    "        #print(nid, end='\\r')\n",
    "        empty_files.append(nid)"
   ]
  },
  {
   "cell_type": "code",
   "execution_count": 31,
   "metadata": {},
   "outputs": [
    {
     "data": {
      "text/plain": [
       "91"
      ]
     },
     "execution_count": 31,
     "metadata": {},
     "output_type": "execute_result"
    }
   ],
   "source": [
    "len(empty_files)\n",
    "# 1749 before no '_source' + 91"
   ]
  },
  {
   "cell_type": "code",
   "execution_count": 32,
   "metadata": {},
   "outputs": [],
   "source": [
    "with open('empty2.pkl', 'wb') as f:\n",
    "    pickle.dump(empty_files, f)"
   ]
  },
  {
   "cell_type": "code",
   "execution_count": 33,
   "metadata": {},
   "outputs": [],
   "source": [
    "with open('empty2.pkl', 'rb') as f:\n",
    "     empty_files2 = pickle.load(f)"
   ]
  },
  {
   "cell_type": "code",
   "execution_count": null,
   "metadata": {},
   "outputs": [],
   "source": [
    "#es.delete(index=NEWINDEX, id=nid)\n",
    "#mdelete"
   ]
  },
  {
   "cell_type": "code",
   "execution_count": null,
   "metadata": {},
   "outputs": [],
   "source": [
    "# Does not run properly\n",
    "SLICES = 2\n",
    "\n",
    "def test(slice_no):\n",
    "    test = []\n",
    "    for i in range(10):\n",
    "        test.append(i)\n",
    "    return test\n",
    "\n",
    "pool = Pool(SLICES)                                                             \n",
    "all_test = pool.map(test, range(SLICES))\n",
    "all_test = [i for l in all_test for i in l]\n",
    "\n",
    "# POOL NOT WORKING\n",
    "# SLICES = 5                                                                      \n",
    "\n",
    "# def dump_slice(slice_no):\n",
    "#     empty_files = []\n",
    "#     s = Search()                                                                \n",
    "#     s = s.extra(slice={\"id\": slice_no, \"max\": SLICES})                          \n",
    "#     for hit in s.scan():                                                          \n",
    "#         nid = hit.meta.id\n",
    "#         if check_empty(es, nid, name):\n",
    "#             empty_files.append(nid)\n",
    "#     return empty_files\n",
    "\n",
    "# pool = Pool(SLICES)                                                             \n",
    "# pool.map(dump_slice, range(SLICES))"
   ]
  },
  {
   "cell_type": "code",
   "execution_count": 34,
   "metadata": {},
   "outputs": [
    {
     "data": {
      "text/plain": [
       "{'batches': 1,\n",
       " 'deleted': 91,\n",
       " 'failures': [],\n",
       " 'noops': 0,\n",
       " 'requests_per_second': -1.0,\n",
       " 'retries': {'bulk': 0, 'search': 0},\n",
       " 'throttled_millis': 0,\n",
       " 'throttled_until_millis': 0,\n",
       " 'timed_out': False,\n",
       " 'took': 1215,\n",
       " 'total': 91,\n",
       " 'version_conflicts': 0}"
      ]
     },
     "execution_count": 34,
     "metadata": {},
     "output_type": "execute_result"
    }
   ],
   "source": [
    "#POST /NEWINDEX/_delete_by_query\n",
    "idsbody = {\n",
    "    \"query\": {\n",
    "        \"ids\" : {\n",
    "        \"values\" : empty_files2\n",
    "        }\n",
    "    }    \n",
    "}\n",
    "\n",
    "es.delete_by_query(index=NEWINDEX, body=idsbody)"
   ]
  },
  {
   "cell_type": "code",
   "execution_count": 13,
   "metadata": {},
   "outputs": [],
   "source": [
    "response = query.execute()"
   ]
  },
  {
   "cell_type": "code",
   "execution_count": 17,
   "metadata": {},
   "outputs": [
    {
     "data": {
      "text/plain": [
       "{'html_url': 'https://github.com/chao1224/Steiner-Tree-in-Flight-Scheduling/blob/2641a6bdcda7b1941c04da3c707882c647dd5ebb/project_report.ipynb',\n",
       " 'language': 'julia',\n",
       " 'name': 'project_report.ipynb'}"
      ]
     },
     "execution_count": 17,
     "metadata": {},
     "output_type": "execute_result"
    }
   ],
   "source": [
    "response[0].to_dict()"
   ]
  },
  {
   "cell_type": "code",
   "execution_count": 21,
   "metadata": {},
   "outputs": [],
   "source": [
    "x = es.get(index=NEWINDEX, id=1250687)"
   ]
  },
  {
   "cell_type": "code",
   "execution_count": 23,
   "metadata": {},
   "outputs": [
    {
     "data": {
      "text/plain": [
       "{'html_url': 'https://github.com/toastmaker/UCD-Python/blob/e626a9ec77962c6386c1f4c9ebd63ddbcf3e609b/UCD-ch6-speed.ipynb',\n",
       " 'language': 'unknown',\n",
       " 'name': 'UCD-ch6-speed.ipynb'}"
      ]
     },
     "execution_count": 23,
     "metadata": {},
     "output_type": "execute_result"
    }
   ],
   "source": [
    "x['_source']"
   ]
  },
  {
   "cell_type": "code",
   "execution_count": 35,
   "metadata": {},
   "outputs": [
    {
     "name": "stdout",
     "output_type": "stream",
     "text": [
      "1840\n"
     ]
    }
   ],
   "source": [
    "print(1749 + 91)"
   ]
  },
  {
   "cell_type": "code",
   "execution_count": 36,
   "metadata": {},
   "outputs": [
    {
     "name": "stdout",
     "output_type": "stream",
     "text": [
      "979097\n"
     ]
    }
   ],
   "source": [
    "print(980937-1840)"
   ]
  },
  {
   "cell_type": "code",
   "execution_count": null,
   "metadata": {},
   "outputs": [],
   "source": []
  }
 ],
 "metadata": {
  "kernelspec": {
   "display_name": "Python 3",
   "language": "python",
   "name": "python3"
  },
  "language_info": {
   "codemirror_mode": {
    "name": "ipython",
    "version": 3
   },
   "file_extension": ".py",
   "mimetype": "text/x-python",
   "name": "python",
   "nbconvert_exporter": "python",
   "pygments_lexer": "ipython3",
   "version": "3.6.4"
  }
 },
 "nbformat": 4,
 "nbformat_minor": 2
}
