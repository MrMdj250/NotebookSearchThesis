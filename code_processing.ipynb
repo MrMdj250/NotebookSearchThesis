{
 "cells": [
  {
   "cell_type": "code",
   "execution_count": null,
   "metadata": {},
   "outputs": [],
   "source": [
    "# imports\n",
    "import os\n",
    "import json\n",
    "from elasticsearch import Elasticsearch\n",
    "from elasticsearch import helpers\n",
    "import numpy as np\n",
    "import pandas as pd\n",
    "import nbconvert\n",
    "import nbformat\n",
    "import zipfile\n",
    "import csv\n",
    "import time\n",
    "import ast\n",
    "# jenna"
   ]
  },
  {
   "cell_type": "code",
   "execution_count": null,
   "metadata": {},
   "outputs": [],
   "source": [
    "# connect to local elastic search host\n",
    "HOST = 'http://localhost:9200/'\n",
    "es = Elasticsearch(hosts=[HOST], timeout=30)"
   ]
  },
  {
   "cell_type": "code",
   "execution_count": null,
   "metadata": {},
   "outputs": [],
   "source": [
    "# load jenna python file\n",
    "%run jennacode.py"
   ]
  },
  {
   "cell_type": "code",
   "execution_count": null,
   "metadata": {
    "scrolled": true
   },
   "outputs": [],
   "source": [
    "# Initialise the elastic search index\n",
    "init_code_index = {\n",
    "    \"settings\" : {\n",
    "        \"number_of_shards\": 5,\n",
    "        \"number_of_replicas\": 1,\n",
    "    },\n",
    "    'mappings': {\n",
    "            'properties': {\n",
    "                'nb_id': {'type': 'integer'},\n",
    "                'language': {'type': 'keyword'},\n",
    "                'code': {'type': 'text'},\n",
    "                'imports': {'type': 'text'},\n",
    "                'functions': {'type': 'text'},\n",
    "                'classes': {'type': 'text'},\n",
    "        }\n",
    "    }\n",
    "}\n",
    "es.indices.create(index = 'code', body = init_code_index)"
   ]
  },
  {
   "cell_type": "code",
   "execution_count": null,
   "metadata": {},
   "outputs": [],
   "source": [
    "# Initialise the elastic search index\n",
    "init_comments_index = {\n",
    "    \"settings\" : {\n",
    "        \"number_of_shards\": 5,\n",
    "        \"number_of_replicas\": 1,\n",
    "        \"analysis\": {\n",
    "            \"analyzer\": {\n",
    "                \"text_analyzer\": {\n",
    "                    \"type\": \"standard\",\n",
    "                    \"stopwords\": \"_english_\"\n",
    "                }\n",
    "            }\n",
    "        }\n",
    "    },\n",
    "    'mappings': {\n",
    "            'properties': {\n",
    "                'nb_id': {'type': 'integer'},\n",
    "                'comments': {'type': 'text', \n",
    "                             \"analyzer\":\"text_analyzer\"\n",
    "                            },\n",
    "        }\n",
    "    }\n",
    "}\n",
    "es.indices.create(index = 'comments2', body = init_comments_index)"
   ]
  },
  {
   "cell_type": "code",
   "execution_count": null,
   "metadata": {},
   "outputs": [],
   "source": [
    "# tes_df1 = pd.read_pickle('df_bb2733859v_2_1_t.pkl') # DONE\n",
    "# tes_df2 = pd.read_pickle('bb2733859v_3_1_new.pkl') # DONE\n",
    "# tes_df3 = pd.read_pickle('bb2733859v_4_1(1)_new.pkl') # DONE>\n",
    "# tes_df4 = pd.read_pickle('bb2733859v_5_1(1)_new.pkl') # DONE>\n",
    "#tes_df5 = pd.read_pickle('bb2733859v_6_1(1)_new.pkl') # Done\n",
    "tes_df = pd.read_pickle('bb2733859v_7_1(1)_new.pkl') #\n",
    "# tes_df = pd.concat([tes_df1,tes_df2])\n",
    "# print(len(tes_df1),len(tes_df2),len(tes_df))\n",
    "# tes_df = pd.concat([tes_df3,tes_df4])\n",
    "# print(len(tes_df3),len(tes_df4),len(tes_df))"
   ]
  },
  {
   "cell_type": "code",
   "execution_count": null,
   "metadata": {},
   "outputs": [],
   "source": [
    "es_df = tes_df\n",
    "all_info = []\n",
    "for i, row in es_df.iterrows():\n",
    "    cell_info = {\n",
    "        \"file\": row['name'],\n",
    "        \"cell_id\": row['nb_id'],\n",
    "        \"language\": row['language'],\n",
    "        \"lines_of_code\": 0,\n",
    "        \"code\": row['code'],\n",
    "        \"imports\": [],\n",
    "        \"parsed_ast\": False,\n",
    "        \"num_functions\": 0,\n",
    "        \"functions\": [],\n",
    "        \"num_classes\": 0,\n",
    "        \"classes\": [],\n",
    "        \"comments\": [],\n",
    "        \"num_comments\": 0,\n",
    "    }\n",
    "    if row['language'] == 'python':\n",
    "        cell_info = parse_py(cell_info)\n",
    "    if row['language'] == 'r':\n",
    "        cell_info = parse_r(cell_info)\n",
    "    if row['language'] == 'julia':\n",
    "        cell_info = parse_ju(cell_info)\n",
    "    all_info.append(cell_info)\n",
    "parsed_df = pd.DataFrame(all_info)"
   ]
  },
  {
   "cell_type": "code",
   "execution_count": null,
   "metadata": {},
   "outputs": [],
   "source": [
    "parsed_df.head()"
   ]
  },
  {
   "cell_type": "code",
   "execution_count": null,
   "metadata": {},
   "outputs": [],
   "source": [
    "len(tes_df)"
   ]
  },
  {
   "cell_type": "code",
   "execution_count": null,
   "metadata": {},
   "outputs": [],
   "source": [
    "es_df = tes_df\n",
    "def gen_code(es_df):\n",
    "    for i, row in es_df.iterrows():\n",
    "        t = {\n",
    "            \"_id\": row['cell_id'],\n",
    "            \"language\": row['language'],\n",
    "            'code': row['code'],\n",
    "            'imports': row['imports'],\n",
    "            'functions': row['functions'],\n",
    "            'classes': row['classes'],\n",
    "            }\n",
    "        yield t\n",
    "\n",
    "errors = []\n",
    "for ok, action in helpers.parallel_bulk(client=es, index='code', actions=gen_code(parsed_df)):\n",
    "    if not ok:\n",
    "        errors.append(action)"
   ]
  },
  {
   "cell_type": "code",
   "execution_count": null,
   "metadata": {},
   "outputs": [],
   "source": [
    "es_df = tes_df\n",
    "def gen_md(es_df):\n",
    "    for i, row in es_df.iterrows():\n",
    "        t = {\n",
    "            \"_id\": row['nb_id'],\n",
    "            'comments': row['comments']\n",
    "            }\n",
    "        yield t\n",
    "\n",
    "errors = []\n",
    "for ok, action in helpers.parallel_bulk(client=es, index='comments2', actions=gen_md(es_df)):\n",
    "    if not ok:\n",
    "        errors.append(action)"
   ]
  },
  {
   "cell_type": "code",
   "execution_count": null,
   "metadata": {},
   "outputs": [],
   "source": []
  },
  {
   "cell_type": "code",
   "execution_count": null,
   "metadata": {},
   "outputs": [],
   "source": []
  }
 ],
 "metadata": {
  "kernelspec": {
   "display_name": "Python 3",
   "language": "python",
   "name": "python3"
  },
  "language_info": {
   "codemirror_mode": {
    "name": "ipython",
    "version": 3
   },
   "file_extension": ".py",
   "mimetype": "text/x-python",
   "name": "python",
   "nbconvert_exporter": "python",
   "pygments_lexer": "ipython3",
   "version": "3.6.4"
  }
 },
 "nbformat": 4,
 "nbformat_minor": 2
}
